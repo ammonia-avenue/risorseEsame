{
  "cells": [
    {
      "cell_type": "code",
      "execution_count": null,
      "metadata": {
        "id": "YCmOD_gAqL5u"
      },
      "outputs": [],
      "source": [
        "import pandas as pd\n",
        "import numpy as np\n",
        "import seaborn as sns\n",
        "import matplotlib.pyplot as plt\n"
      ]
    },
    {
      "cell_type": "code",
      "execution_count": null,
      "metadata": {
        "colab": {
          "base_uri": "https://localhost:8080/",
          "height": 423
        },
        "id": "nkXeSqLWtxUX",
        "outputId": "70bedc62-0eef-4ed9-f86a-48531b008b02"
      },
      "outputs": [
        {
          "data": {
            "application/vnd.google.colaboratory.intrinsic+json": {
              "summary": "{\n  \"name\": \"df\",\n  \"rows\": 100,\n  \"fields\": [\n    {\n      \"column\": \"Unnamed: 0\",\n      \"properties\": {\n        \"dtype\": \"number\",\n        \"std\": 29,\n        \"min\": 0,\n        \"max\": 99,\n        \"num_unique_values\": 100,\n        \"samples\": [\n          83,\n          53,\n          70\n        ],\n        \"semantic_type\": \"\",\n        \"description\": \"\"\n      }\n    },\n    {\n      \"column\": \"prenotazioni\",\n      \"properties\": {\n        \"dtype\": \"number\",\n        \"std\": 27,\n        \"min\": 10,\n        \"max\": 127,\n        \"num_unique_values\": 60,\n        \"samples\": [\n          50,\n          126,\n          115\n        ],\n        \"semantic_type\": \"\",\n        \"description\": \"\"\n      }\n    },\n    {\n      \"column\": \"pizze\",\n      \"properties\": {\n        \"dtype\": \"number\",\n        \"std\": 25,\n        \"min\": 27,\n        \"max\": 147,\n        \"num_unique_values\": 56,\n        \"samples\": [\n          56,\n          99,\n          68\n        ],\n        \"semantic_type\": \"\",\n        \"description\": \"\"\n      }\n    },\n    {\n      \"column\": \"eventi bar\",\n      \"properties\": {\n        \"dtype\": \"number\",\n        \"std\": 0,\n        \"min\": 0,\n        \"max\": 1,\n        \"num_unique_values\": 2,\n        \"samples\": [\n          0,\n          1\n        ],\n        \"semantic_type\": \"\",\n        \"description\": \"\"\n      }\n    }\n  ]\n}",
              "type": "dataframe",
              "variable_name": "df"
            },
            "text/html": [
              "\n",
              "  <div id=\"df-8a5e0ef0-ac84-4a34-a026-1d93022bd500\" class=\"colab-df-container\">\n",
              "    <div>\n",
              "<style scoped>\n",
              "    .dataframe tbody tr th:only-of-type {\n",
              "        vertical-align: middle;\n",
              "    }\n",
              "\n",
              "    .dataframe tbody tr th {\n",
              "        vertical-align: top;\n",
              "    }\n",
              "\n",
              "    .dataframe thead th {\n",
              "        text-align: right;\n",
              "    }\n",
              "</style>\n",
              "<table border=\"1\" class=\"dataframe\">\n",
              "  <thead>\n",
              "    <tr style=\"text-align: right;\">\n",
              "      <th></th>\n",
              "      <th>Unnamed: 0</th>\n",
              "      <th>prenotazioni</th>\n",
              "      <th>pizze</th>\n",
              "      <th>eventi bar</th>\n",
              "    </tr>\n",
              "  </thead>\n",
              "  <tbody>\n",
              "    <tr>\n",
              "      <th>0</th>\n",
              "      <td>0</td>\n",
              "      <td>50</td>\n",
              "      <td>56</td>\n",
              "      <td>1</td>\n",
              "    </tr>\n",
              "    <tr>\n",
              "      <th>1</th>\n",
              "      <td>1</td>\n",
              "      <td>83</td>\n",
              "      <td>95</td>\n",
              "      <td>0</td>\n",
              "    </tr>\n",
              "    <tr>\n",
              "      <th>2</th>\n",
              "      <td>2</td>\n",
              "      <td>71</td>\n",
              "      <td>80</td>\n",
              "      <td>0</td>\n",
              "    </tr>\n",
              "    <tr>\n",
              "      <th>3</th>\n",
              "      <td>3</td>\n",
              "      <td>109</td>\n",
              "      <td>124</td>\n",
              "      <td>0</td>\n",
              "    </tr>\n",
              "    <tr>\n",
              "      <th>4</th>\n",
              "      <td>4</td>\n",
              "      <td>10</td>\n",
              "      <td>40</td>\n",
              "      <td>1</td>\n",
              "    </tr>\n",
              "    <tr>\n",
              "      <th>...</th>\n",
              "      <td>...</td>\n",
              "      <td>...</td>\n",
              "      <td>...</td>\n",
              "      <td>...</td>\n",
              "    </tr>\n",
              "    <tr>\n",
              "      <th>95</th>\n",
              "      <td>95</td>\n",
              "      <td>71</td>\n",
              "      <td>99</td>\n",
              "      <td>0</td>\n",
              "    </tr>\n",
              "    <tr>\n",
              "      <th>96</th>\n",
              "      <td>96</td>\n",
              "      <td>76</td>\n",
              "      <td>81</td>\n",
              "      <td>0</td>\n",
              "    </tr>\n",
              "    <tr>\n",
              "      <th>97</th>\n",
              "      <td>97</td>\n",
              "      <td>89</td>\n",
              "      <td>101</td>\n",
              "      <td>0</td>\n",
              "    </tr>\n",
              "    <tr>\n",
              "      <th>98</th>\n",
              "      <td>98</td>\n",
              "      <td>69</td>\n",
              "      <td>101</td>\n",
              "      <td>0</td>\n",
              "    </tr>\n",
              "    <tr>\n",
              "      <th>99</th>\n",
              "      <td>99</td>\n",
              "      <td>53</td>\n",
              "      <td>59</td>\n",
              "      <td>1</td>\n",
              "    </tr>\n",
              "  </tbody>\n",
              "</table>\n",
              "<p>100 rows × 4 columns</p>\n",
              "</div>\n",
              "    <div class=\"colab-df-buttons\">\n",
              "\n",
              "  <div class=\"colab-df-container\">\n",
              "    <button class=\"colab-df-convert\" onclick=\"convertToInteractive('df-8a5e0ef0-ac84-4a34-a026-1d93022bd500')\"\n",
              "            title=\"Convert this dataframe to an interactive table.\"\n",
              "            style=\"display:none;\">\n",
              "\n",
              "  <svg xmlns=\"http://www.w3.org/2000/svg\" height=\"24px\" viewBox=\"0 -960 960 960\">\n",
              "    <path d=\"M120-120v-720h720v720H120Zm60-500h600v-160H180v160Zm220 220h160v-160H400v160Zm0 220h160v-160H400v160ZM180-400h160v-160H180v160Zm440 0h160v-160H620v160ZM180-180h160v-160H180v160Zm440 0h160v-160H620v160Z\"/>\n",
              "  </svg>\n",
              "    </button>\n",
              "\n",
              "  <style>\n",
              "    .colab-df-container {\n",
              "      display:flex;\n",
              "      gap: 12px;\n",
              "    }\n",
              "\n",
              "    .colab-df-convert {\n",
              "      background-color: #E8F0FE;\n",
              "      border: none;\n",
              "      border-radius: 50%;\n",
              "      cursor: pointer;\n",
              "      display: none;\n",
              "      fill: #1967D2;\n",
              "      height: 32px;\n",
              "      padding: 0 0 0 0;\n",
              "      width: 32px;\n",
              "    }\n",
              "\n",
              "    .colab-df-convert:hover {\n",
              "      background-color: #E2EBFA;\n",
              "      box-shadow: 0px 1px 2px rgba(60, 64, 67, 0.3), 0px 1px 3px 1px rgba(60, 64, 67, 0.15);\n",
              "      fill: #174EA6;\n",
              "    }\n",
              "\n",
              "    .colab-df-buttons div {\n",
              "      margin-bottom: 4px;\n",
              "    }\n",
              "\n",
              "    [theme=dark] .colab-df-convert {\n",
              "      background-color: #3B4455;\n",
              "      fill: #D2E3FC;\n",
              "    }\n",
              "\n",
              "    [theme=dark] .colab-df-convert:hover {\n",
              "      background-color: #434B5C;\n",
              "      box-shadow: 0px 1px 3px 1px rgba(0, 0, 0, 0.15);\n",
              "      filter: drop-shadow(0px 1px 2px rgba(0, 0, 0, 0.3));\n",
              "      fill: #FFFFFF;\n",
              "    }\n",
              "  </style>\n",
              "\n",
              "    <script>\n",
              "      const buttonEl =\n",
              "        document.querySelector('#df-8a5e0ef0-ac84-4a34-a026-1d93022bd500 button.colab-df-convert');\n",
              "      buttonEl.style.display =\n",
              "        google.colab.kernel.accessAllowed ? 'block' : 'none';\n",
              "\n",
              "      async function convertToInteractive(key) {\n",
              "        const element = document.querySelector('#df-8a5e0ef0-ac84-4a34-a026-1d93022bd500');\n",
              "        const dataTable =\n",
              "          await google.colab.kernel.invokeFunction('convertToInteractive',\n",
              "                                                    [key], {});\n",
              "        if (!dataTable) return;\n",
              "\n",
              "        const docLinkHtml = 'Like what you see? Visit the ' +\n",
              "          '<a target=\"_blank\" href=https://colab.research.google.com/notebooks/data_table.ipynb>data table notebook</a>'\n",
              "          + ' to learn more about interactive tables.';\n",
              "        element.innerHTML = '';\n",
              "        dataTable['output_type'] = 'display_data';\n",
              "        await google.colab.output.renderOutput(dataTable, element);\n",
              "        const docLink = document.createElement('div');\n",
              "        docLink.innerHTML = docLinkHtml;\n",
              "        element.appendChild(docLink);\n",
              "      }\n",
              "    </script>\n",
              "  </div>\n",
              "\n",
              "\n",
              "<div id=\"df-4362e4f4-062b-40f2-a5f5-96b8fb75679c\">\n",
              "  <button class=\"colab-df-quickchart\" onclick=\"quickchart('df-4362e4f4-062b-40f2-a5f5-96b8fb75679c')\"\n",
              "            title=\"Suggest charts\"\n",
              "            style=\"display:none;\">\n",
              "\n",
              "<svg xmlns=\"http://www.w3.org/2000/svg\" height=\"24px\"viewBox=\"0 0 24 24\"\n",
              "     width=\"24px\">\n",
              "    <g>\n",
              "        <path d=\"M19 3H5c-1.1 0-2 .9-2 2v14c0 1.1.9 2 2 2h14c1.1 0 2-.9 2-2V5c0-1.1-.9-2-2-2zM9 17H7v-7h2v7zm4 0h-2V7h2v10zm4 0h-2v-4h2v4z\"/>\n",
              "    </g>\n",
              "</svg>\n",
              "  </button>\n",
              "\n",
              "<style>\n",
              "  .colab-df-quickchart {\n",
              "      --bg-color: #E8F0FE;\n",
              "      --fill-color: #1967D2;\n",
              "      --hover-bg-color: #E2EBFA;\n",
              "      --hover-fill-color: #174EA6;\n",
              "      --disabled-fill-color: #AAA;\n",
              "      --disabled-bg-color: #DDD;\n",
              "  }\n",
              "\n",
              "  [theme=dark] .colab-df-quickchart {\n",
              "      --bg-color: #3B4455;\n",
              "      --fill-color: #D2E3FC;\n",
              "      --hover-bg-color: #434B5C;\n",
              "      --hover-fill-color: #FFFFFF;\n",
              "      --disabled-bg-color: #3B4455;\n",
              "      --disabled-fill-color: #666;\n",
              "  }\n",
              "\n",
              "  .colab-df-quickchart {\n",
              "    background-color: var(--bg-color);\n",
              "    border: none;\n",
              "    border-radius: 50%;\n",
              "    cursor: pointer;\n",
              "    display: none;\n",
              "    fill: var(--fill-color);\n",
              "    height: 32px;\n",
              "    padding: 0;\n",
              "    width: 32px;\n",
              "  }\n",
              "\n",
              "  .colab-df-quickchart:hover {\n",
              "    background-color: var(--hover-bg-color);\n",
              "    box-shadow: 0 1px 2px rgba(60, 64, 67, 0.3), 0 1px 3px 1px rgba(60, 64, 67, 0.15);\n",
              "    fill: var(--button-hover-fill-color);\n",
              "  }\n",
              "\n",
              "  .colab-df-quickchart-complete:disabled,\n",
              "  .colab-df-quickchart-complete:disabled:hover {\n",
              "    background-color: var(--disabled-bg-color);\n",
              "    fill: var(--disabled-fill-color);\n",
              "    box-shadow: none;\n",
              "  }\n",
              "\n",
              "  .colab-df-spinner {\n",
              "    border: 2px solid var(--fill-color);\n",
              "    border-color: transparent;\n",
              "    border-bottom-color: var(--fill-color);\n",
              "    animation:\n",
              "      spin 1s steps(1) infinite;\n",
              "  }\n",
              "\n",
              "  @keyframes spin {\n",
              "    0% {\n",
              "      border-color: transparent;\n",
              "      border-bottom-color: var(--fill-color);\n",
              "      border-left-color: var(--fill-color);\n",
              "    }\n",
              "    20% {\n",
              "      border-color: transparent;\n",
              "      border-left-color: var(--fill-color);\n",
              "      border-top-color: var(--fill-color);\n",
              "    }\n",
              "    30% {\n",
              "      border-color: transparent;\n",
              "      border-left-color: var(--fill-color);\n",
              "      border-top-color: var(--fill-color);\n",
              "      border-right-color: var(--fill-color);\n",
              "    }\n",
              "    40% {\n",
              "      border-color: transparent;\n",
              "      border-right-color: var(--fill-color);\n",
              "      border-top-color: var(--fill-color);\n",
              "    }\n",
              "    60% {\n",
              "      border-color: transparent;\n",
              "      border-right-color: var(--fill-color);\n",
              "    }\n",
              "    80% {\n",
              "      border-color: transparent;\n",
              "      border-right-color: var(--fill-color);\n",
              "      border-bottom-color: var(--fill-color);\n",
              "    }\n",
              "    90% {\n",
              "      border-color: transparent;\n",
              "      border-bottom-color: var(--fill-color);\n",
              "    }\n",
              "  }\n",
              "</style>\n",
              "\n",
              "  <script>\n",
              "    async function quickchart(key) {\n",
              "      const quickchartButtonEl =\n",
              "        document.querySelector('#' + key + ' button');\n",
              "      quickchartButtonEl.disabled = true;  // To prevent multiple clicks.\n",
              "      quickchartButtonEl.classList.add('colab-df-spinner');\n",
              "      try {\n",
              "        const charts = await google.colab.kernel.invokeFunction(\n",
              "            'suggestCharts', [key], {});\n",
              "      } catch (error) {\n",
              "        console.error('Error during call to suggestCharts:', error);\n",
              "      }\n",
              "      quickchartButtonEl.classList.remove('colab-df-spinner');\n",
              "      quickchartButtonEl.classList.add('colab-df-quickchart-complete');\n",
              "    }\n",
              "    (() => {\n",
              "      let quickchartButtonEl =\n",
              "        document.querySelector('#df-4362e4f4-062b-40f2-a5f5-96b8fb75679c button');\n",
              "      quickchartButtonEl.style.display =\n",
              "        google.colab.kernel.accessAllowed ? 'block' : 'none';\n",
              "    })();\n",
              "  </script>\n",
              "</div>\n",
              "\n",
              "  <div id=\"id_0f97d222-4bf7-4874-885e-43a11414349f\">\n",
              "    <style>\n",
              "      .colab-df-generate {\n",
              "        background-color: #E8F0FE;\n",
              "        border: none;\n",
              "        border-radius: 50%;\n",
              "        cursor: pointer;\n",
              "        display: none;\n",
              "        fill: #1967D2;\n",
              "        height: 32px;\n",
              "        padding: 0 0 0 0;\n",
              "        width: 32px;\n",
              "      }\n",
              "\n",
              "      .colab-df-generate:hover {\n",
              "        background-color: #E2EBFA;\n",
              "        box-shadow: 0px 1px 2px rgba(60, 64, 67, 0.3), 0px 1px 3px 1px rgba(60, 64, 67, 0.15);\n",
              "        fill: #174EA6;\n",
              "      }\n",
              "\n",
              "      [theme=dark] .colab-df-generate {\n",
              "        background-color: #3B4455;\n",
              "        fill: #D2E3FC;\n",
              "      }\n",
              "\n",
              "      [theme=dark] .colab-df-generate:hover {\n",
              "        background-color: #434B5C;\n",
              "        box-shadow: 0px 1px 3px 1px rgba(0, 0, 0, 0.15);\n",
              "        filter: drop-shadow(0px 1px 2px rgba(0, 0, 0, 0.3));\n",
              "        fill: #FFFFFF;\n",
              "      }\n",
              "    </style>\n",
              "    <button class=\"colab-df-generate\" onclick=\"generateWithVariable('df')\"\n",
              "            title=\"Generate code using this dataframe.\"\n",
              "            style=\"display:none;\">\n",
              "\n",
              "  <svg xmlns=\"http://www.w3.org/2000/svg\" height=\"24px\"viewBox=\"0 0 24 24\"\n",
              "       width=\"24px\">\n",
              "    <path d=\"M7,19H8.4L18.45,9,17,7.55,7,17.6ZM5,21V16.75L18.45,3.32a2,2,0,0,1,2.83,0l1.4,1.43a1.91,1.91,0,0,1,.58,1.4,1.91,1.91,0,0,1-.58,1.4L9.25,21ZM18.45,9,17,7.55Zm-12,3A5.31,5.31,0,0,0,4.9,8.1,5.31,5.31,0,0,0,1,6.5,5.31,5.31,0,0,0,4.9,4.9,5.31,5.31,0,0,0,6.5,1,5.31,5.31,0,0,0,8.1,4.9,5.31,5.31,0,0,0,12,6.5,5.46,5.46,0,0,0,6.5,12Z\"/>\n",
              "  </svg>\n",
              "    </button>\n",
              "    <script>\n",
              "      (() => {\n",
              "      const buttonEl =\n",
              "        document.querySelector('#id_0f97d222-4bf7-4874-885e-43a11414349f button.colab-df-generate');\n",
              "      buttonEl.style.display =\n",
              "        google.colab.kernel.accessAllowed ? 'block' : 'none';\n",
              "\n",
              "      buttonEl.onclick = () => {\n",
              "        google.colab.notebook.generateWithVariable('df');\n",
              "      }\n",
              "      })();\n",
              "    </script>\n",
              "  </div>\n",
              "\n",
              "    </div>\n",
              "  </div>\n"
            ],
            "text/plain": [
              "    Unnamed: 0  prenotazioni  pizze  eventi bar\n",
              "0            0            50     56           1\n",
              "1            1            83     95           0\n",
              "2            2            71     80           0\n",
              "3            3           109    124           0\n",
              "4            4            10     40           1\n",
              "..         ...           ...    ...         ...\n",
              "95          95            71     99           0\n",
              "96          96            76     81           0\n",
              "97          97            89    101           0\n",
              "98          98            69    101           0\n",
              "99          99            53     59           1\n",
              "\n",
              "[100 rows x 4 columns]"
            ]
          },
          "metadata": {},
          "output_type": "display_data"
        }
      ],
      "source": [
        "df =  pd.read_csv(\"https://raw.githubusercontent.com/FabioGagliardiIts/datasets/main/dati_prenotazioni.csv\")\n",
        "\n",
        "display(df)"
      ]
    },
    {
      "cell_type": "code",
      "execution_count": null,
      "metadata": {
        "id": "4fMlVpFvw1lY"
      },
      "outputs": [],
      "source": [
        "prenotazioni = df['prenotazioni']\n",
        "eventi = df['eventi bar']"
      ]
    },
    {
      "cell_type": "markdown",
      "metadata": {
        "id": "F0AAjI4iyVts"
      },
      "source": [
        "Da una prima visualizzazione è chiaro che non è possibile usare direttamente un modello di Regressione Lineare."
      ]
    },
    {
      "cell_type": "code",
      "execution_count": null,
      "metadata": {
        "colab": {
          "base_uri": "https://localhost:8080/",
          "height": 449
        },
        "id": "ZiJ4PYDfylgj",
        "outputId": "7a84c788-b74c-46a4-a35b-0e3d120c2e54"
      },
      "outputs": [
        {
          "data": {
            "image/png": "[encoded data removed]",
            "text/plain": [
              "<Figure size 640x480 with 1 Axes>"
            ]
          },
          "metadata": {},
          "output_type": "display_data"
        }
      ],
      "source": [
        "df.plot.scatter(x=\"prenotazioni\", y=\"eventi bar\")\n",
        "plt.show()"
      ]
    },
    {
      "cell_type": "markdown",
      "metadata": {
        "id": "zCHsmtRvJbTZ"
      },
      "source": [
        "## **visuallizzazione dei dati**\n",
        "\n",
        "Cerchiamo innanzitutto di trovare una buona visualizzazione che ci dia indicazioni su come si ditribuisce il dato delle prenotazioni rispetto agli eventi."
      ]
    },
    {
      "cell_type": "code",
      "execution_count": null,
      "metadata": {
        "colab": {
          "base_uri": "https://localhost:8080/",
          "height": 846
        },
        "id": "gSVXwfiFHuZm",
        "outputId": "ade04b42-3b36-4c36-86ad-bf6ca813b820"
      },
      "outputs": [
        {
          "data": {
            "image/png": "[encoded data removed]",
            "text/plain": [
              "<Figure size 640x480 with 1 Axes>"
            ]
          },
          "metadata": {},
          "output_type": "display_data"
        },
        {
          "data": {
            "image/png": "[encoded data removed]",
            "text/plain": [
              "<Figure size 640x480 with 1 Axes>"
            ]
          },
          "metadata": {},
          "output_type": "display_data"
        }
      ],
      "source": [
        "# selezioniamo i dati\n",
        "eventi_si = df['prenotazioni'][df['eventi bar'] == 1]\n",
        "eventi_no = df['prenotazioni'][df['eventi bar'] == 0]\n",
        "\n",
        "plt.scatter(np.arange(eventi_si.size), eventi_si, color='red')\n",
        "plt.show()\n",
        "plt.scatter(np.arange(eventi_no.size), eventi_no, color='green')\n",
        "plt.show()\n"
      ]
    },
    {
      "cell_type": "code",
      "execution_count": null,
      "metadata": {
        "colab": {
          "base_uri": "https://localhost:8080/",
          "height": 399
        },
        "id": "igtrP913KOsd",
        "outputId": "700327fc-d220-4ea2-ba01-11b9a8f7ed64"
      },
      "outputs": [
        {
          "name": "stdout",
          "output_type": "stream",
          "text": [
            "EVENTI SI\n"
          ]
        },
        {
          "data": {
            "text/plain": [
              "count    20.00000\n",
              "mean     38.70000\n",
              "std      13.17134\n",
              "min      10.00000\n",
              "25%      33.25000\n",
              "50%      42.00000\n",
              "75%      47.75000\n",
              "max      53.00000\n",
              "Name: prenotazioni, dtype: float64"
            ]
          },
          "metadata": {},
          "output_type": "display_data"
        },
        {
          "name": "stdout",
          "output_type": "stream",
          "text": [
            "\n",
            "\n",
            "EVENTI NO\n"
          ]
        },
        {
          "data": {
            "text/plain": [
              "count     80.000000\n",
              "mean      89.225000\n",
              "std       19.528606\n",
              "min       56.000000\n",
              "25%       72.000000\n",
              "50%       86.000000\n",
              "75%      104.250000\n",
              "max      127.000000\n",
              "Name: prenotazioni, dtype: float64"
            ]
          },
          "metadata": {},
          "output_type": "display_data"
        }
      ],
      "source": [
        "print(\"EVENTI SI\")\n",
        "display(eventi_si.describe())\n",
        "print(\"\\n\")\n",
        "print(\"EVENTI NO\")\n",
        "display(eventi_no.describe())"
      ]
    },
    {
      "cell_type": "markdown",
      "metadata": {
        "id": "xF_JnlLpl134"
      },
      "source": [
        "Come risultato abbiamo ottenuto un'informazione molto importate: i dati sono separati da un valore soglia (**threshold**) che separa le prenotazioni in base al verificarsi o meno degli eventi.\n",
        "\n"
      ]
    },
    {
      "cell_type": "code",
      "execution_count": null,
      "metadata": {
        "colab": {
          "base_uri": "https://localhost:8080/",
          "height": 430
        },
        "id": "b2AHQ_ndmctf",
        "outputId": "aed7fd70-fe23-464c-f518-95abf0943399"
      },
      "outputs": [
        {
          "data": {
            "image/png": "[encoded data removed]",
            "text/plain": [
              "<Figure size 640x480 with 1 Axes>"
            ]
          },
          "metadata": {},
          "output_type": "display_data"
        }
      ],
      "source": [
        "plt.scatter(np.arange(eventi_si.size), eventi_si, color='red')\n",
        "plt.plot(np.arange(100), np.full(100, 53 + (56. - 53.) / 2.), color='black')\n",
        "plt.scatter(np.arange(eventi_no.size), eventi_no, color='green')\n",
        "plt.show()"
      ]
    },
    {
      "cell_type": "markdown",
      "metadata": {
        "id": "_whUgl5p3BOv"
      },
      "source": [
        "# **Le funzioni sigmoidee**"
      ]
    },
    {
      "cell_type": "markdown",
      "metadata": {
        "id": "_3M3bqX0ytD6"
      },
      "source": [
        "Dalla visualizzazione dei dati è chiaro che la risposta al nostro problema non potrebbe passare direttamente per un modello predittivo, tantomeno lineare, non ci interessa approssimare un valore atteso.\n",
        "\n",
        "Abbiamo invece bisogno di una funzione non linenare che formalizzi l'appartenenza delle \"features\" ai gruppi formati dalle \"labels.\n",
        "\n",
        "La nostra funzione dovrà essere:\n",
        "- continua, perchè per applicare la discesa del gradiente deve essere derivabile e non mostrare discontinuità\n",
        "- compresa tra 0 e 1, perché dovrà rappresentare lo spazio di probablità all'interno del quale una variabile viene classificata.\n",
        "\n",
        "\n",
        "In matematica una funzione del genere fa parte di quella famiglia di funzioni, dalla caratteristica forma ad \"s\", chiamate appunto funzioni sigmoidee. Nello specifico, per il nostro problema di classificazione, useremo quella che viene chiamata ***funzione logistica***.\n",
        "\n",
        "Di seguito l'equazione che la caratterizza:\n",
        "\\begin{align}\n",
        "  y = \\frac{1}{1 + e^{-z}}\n",
        "\\end{align}"
      ]
    },
    {
      "cell_type": "code",
      "execution_count": null,
      "metadata": {
        "id": "QkIvTeo340D8"
      },
      "outputs": [],
      "source": [
        "def sigmoid(z: np.array):\n",
        "  return 1 / (1 + np.exp(-z))"
      ]
    },
    {
      "cell_type": "code",
      "execution_count": null,
      "metadata": {
        "colab": {
          "base_uri": "https://localhost:8080/",
          "height": 430
        },
        "id": "EobOjy3j73F8",
        "outputId": "cea73572-1e34-4728-fe2c-c6e9e5f9c92a"
      },
      "outputs": [
        {
          "data": {
            "image/png": "[encoded data removed]",
            "text/plain": [
              "<Figure size 640x480 with 1 Axes>"
            ]
          },
          "metadata": {},
          "output_type": "display_data"
        }
      ],
      "source": [
        "sx = np.arange(-10, 10)\n",
        "plt.plot(sx, sigmoid(sx))\n",
        "plt.show()"
      ]
    },
    {
      "cell_type": "markdown",
      "metadata": {
        "id": "jRfjDguTqmrO"
      },
      "source": [
        "Quindi per ogni valore \"p\" avremo una **classificazione binaria** data da:\n",
        "\\begin{align}\n",
        "  p >= 0.5 : eventi bar = 1\n",
        "\\end{align}\n",
        "\n",
        "\\begin{align}\n",
        "  p < 0.5 : eventi bar = 0\n",
        "\\end{align}"
      ]
    },
    {
      "cell_type": "markdown",
      "metadata": {
        "id": "zKbQMvk2AL0c"
      },
      "source": [
        "# **Classificazione**\n",
        "\n",
        "\n",
        "Abbiamo definito la funzione che ci definisce lo spazio di probabilità di cui abbiamo bisogno. Adesso dobbiamo trovare una funzione che, predetti dei valori in una scala, li passi poi alla funzione logistica per trasformarli in una distribuzione di probabilità.\n",
        "\n",
        "Riguardando ai grafici prodotti in precedeza e al modo in cui sono separate le classi di appartenenza, è intuibile che la nostra funzione di partenza dovrebbe sostanzialmente descrivere una retta.\n",
        "\n",
        "\n"
      ]
    },
    {
      "cell_type": "markdown",
      "metadata": {
        "id": "2fmvDz7710pT"
      },
      "source": [
        "![threesline.jpg](data:image/jpeg;base64,/9j/4AAQSkZJRgABAQEASABIAAD/4gKwSUNDX1BST0ZJTEUAAQEAAAKgbGNtcwQwAABtbnRyUkdCIFhZWiAH5gALAAEACgAuAAdhY3NwTVNGVAAAAAAAAAAAAAAAAAAAAAAAAAAAAAAAAAAA9tYAAQAAAADTLWxjbXMAAAAAAAAAAAAAAAAAAAAAAAAAAAAAAAAAAAAAAAAAAAAAAAAAAAAAAAAAAAAAAA1kZXNjAAABIAAAAEBjcHJ0AAABYAAAADZ3dHB0AAABmAAAABRjaGFkAAABrAAAACxyWFlaAAAB2AAAABRiWFlaAAAB7AAAABRnWFlaAAACAAAAABRyVFJDAAACFAAAACBnVFJDAAACFAAAACBiVFJDAAACFAAAACBjaHJtAAACNAAAACRkbW5kAAACWAAAACRkbWRkAAACfAAAACRtbHVjAAAAAAAAAAEAAAAMZW5VUwAAACQAAAAcAEcASQBNAFAAIABiAHUAaQBsAHQALQBpAG4AIABzAFIARwBCbWx1YwAAAAAAAAABAAAADGVuVVMAAAAaAAAAHABQAHUAYgBsAGkAYwAgAEQAbwBtAGEAaQBuAABYWVogAAAAAAAA9tYAAQAAAADTLXNmMzIAAAAAAAEMQgAABd7///MlAAAHkwAA/ZD///uh///9ogAAA9wAAMBuWFlaIAAAAAAAAG+gAAA49QAAA5BYWVogAAAAAAAAJJ8AAA+EAAC2xFhZWiAAAAAAAABilwAAt4cAABjZcGFyYQAAAAAAAwAAAAJmZgAA8qcAAA1ZAAAT0AAACltjaHJtAAAAAAADAAAAAKPXAABUfAAATM0AAJmaAAAmZwAAD1xtbHVjAAAAAAAAAAEAAAAMZW5VUwAAAAgAAAAcAEcASQBNAFBtbHVjAAAAAAAAAAEAAAAMZW5VUwAAAAgAAAAcAHMAUgBHAEL/2wBDAAMCAgMCAgMDAwMEAwMEBQgFBQQEBQoHBwYIDAoMDAsKCwsNDhIQDQ4RDgsLEBYQERMUFRUVDA8XGBYUGBIUFRT/2wBDAQMEBAUEBQkFBQkUDQsNFBQUFBQUFBQUFBQUFBQUFBQUFBQUFBQUFBQUFBQUFBQUFBQUFBQUFBQUFBQUFBQUFBT/wgARCAD4AZEDAREAAhEBAxEB/8QAHQABAAEFAQEBAAAAAAAAAAAAAAECAwUGBwQICf/EABsBAQADAQEBAQAAAAAAAAAAAAABAwUEAgYH/9oADAMBAAIQAxAAAAH6pAAABAeZSSAAAAAAAAAAAAAAAAAAAAAABaTBdRIAAAAAAAAAAAAAAAAAAAAAABwQ6PV1X3RtlubIAAAAAAAAAAAAAAAAAAAAAAPEfnYdph9XT79CsSkAAAAAAAAAAAAAAAAAAAAADBHMzoRshWgkAAAAAAAAAAAAAAAAAAAAAADkZ1wAAAAAAAAAAAAIJAAAAAAAAAAA1yvu0ezh62AAAAAAAAAAAeainBZedmNDvxPByXbPXt6rsLl8Gw7Gpgcjg2nf1QAAAAAAAMF46ufe+XOEAAAA9BUQCQQCQQDCV9fhjt2TOzvFh/L5TY3vFmZFd3p3XePBxcj9Lv4753Dyn2f1ETIG2nuAAAAAAOSHWwAAAAAAAABDUqNXJ++bNW8eLMoQCIiqZhBKImD1IAAAAAAAHJDrYAAAAAAAABqfNqero4MNNUHNjTD6er6cdHRYrs8ybhT5neevHRKQAAAAAAAHJDrYAAAAAAAAOHfZZ+wY3f1DHhEk4IzRZe3mfJFtmJ91lFqu3JWc8IlIAAAAAAAHJDrYAAAAAAABEOW6PXvdOfl+W2YQQTKRBIQECUgAAAAAAADkh1sAAAAAAAA1rzoZmeT2TVT5mr1EEgAAAAAAAAAAAAHJDrYAAAAAAAENR59XbujKSQSEQSkAAAAAAAAAACCQ5MdZAAAAAAABjK+jzLM5ZxgAAAAAAAAAAAAAYPx1WfNmJ8dWtdGPvoIBWWykpIJBSXySAfNXnp+jZ5r0qCASQXAXCkAFogEmRMqAAAAAYXx047z0E6dbm9RAIAIJKSQQVEgI4lX27Vbx9DhBSSQCskkoBBIIIJLp6AAAAABBJDkkutgAAAAAAHne8DX3/MXvN7bLqwAAAAAAAAAAAAAAByQ62AAAAAAAapz6m035nnRoUtyrvyvuhK1C6WpImZIC5MAAAAAAAAAAckOtgAAAAAAGqV6u12ZQphzLk379nlVOPmz3q8Y6Nnsz/It8/i3z+V73HSerAkAAAAAAAAA5IdbAAAAAAB4luKo7NivzgKYUzNKYQeqo8xM1ophAibs+ZkAAAAAAAAByQ62AAAAAADT+fW2/oyZAAAQCQAQiUwSAAAAAAAAByQ62AAAAACEY7x047x0bHdngAAAAAAAAAAAAAAAAckOtgAAAAA0vV5/nL77g+wPyrWiZqlBIAAAAAAAAAAAAAAAOSHWwAAAACDS6dnZ+nH93iIJAAAAAAAAAAAAAAAAhqtWjp1ud1uQAAAAx1d+teNLbrce/MJSEEgAAAAAAAa0Zk9gAAAAAIhzqjexl+DXy0x8d8w+q36/nsu516Ffr35srFyP0H1ON+f8AkdX+x/Rb93NnffEQkAQSAAAAAAABhD5RPrU6jX1Z6zlAAAAAiESt0xgczLzWj34vg5L93u579eHlozGl34XLzti2tI9yQiQmAAAAAAAAASaGcfPo451xfR9T7fnAAAAAAEEgAAAQSAAAAAAAAAAAKSoAAAAAAAAAAAAAAAAAAAAAAAAAAAAAAAAAAAAAAAAAAAAAAAAAAAAAAA//xAAqEAABAwMCBQUBAQEBAAAAAAAEAgMFAAEGBxYTFzA2QBAREhRQFSUkYP/aAAgBAQABBQL9pTiUX4ieJ+hqpla4QRDzeT4/jlrvh/nmGNR4uTTL+TzGkeT/AFX2B2xmfz5aGGm2tQg2AMYlMajZi6E/BP6Gpvb36P3n7TWpvb3jkEIGaBnmDnzDGwWI6cYkFyMyzG0Ec2ey/kYo5KyW22BMhGMf8FYaly2qFvljez62fWz62fWz62fWz62fWz6tiabW2omtqJraia2omtqJraia2omtqJraia2omtqJo6KGBunFpApacV9mhcWXZb+N2daBxhTaj8au9TOJtqaexVzjXxIe1D4ou69oDVtAatnjVs8ahBrBj9XU3t7xCD3TXwItkC1GSQ8evytTe3vDkiXSn3mH44D7eQV9zIK1DdknsV07kstctIsOlgR5ibMRTDRQrk48kR2XIDS3LFOHeHqd294WbZuVByGASdpWK9ZSGFmbIRZtJAzZTQ4zYrf80b7CIkNqlitO2vHj3J8PU7t7wisfEy42MihogX19vL1N7e8GbIU2MIMgMavfztTO3vBF/wBCZ/A1M7e8CRK+kFDi3EjvNlS1jNRhTqnoyScLO1PXZGNy0/HwST58CMDdyCPYi05BHrig50A+Pi8gj5puLyOOmlx+SxkqUPk0YVJOZJGtSZeSxgEhKZNGQr0rkEfB1ITwEUI/kEeNG2n49UVlGq/EkIPIwZ+Picijp2ozJI2YfFyaMNkrZLGKlSckjA5GSyaMhyZXIo6EvJZDHxDBc8AABuCP/lD5BHlRoOQR8mJE5BHzto3JYyYIEyWMPkEZNGOSr2Sxo0neUFtI9OTCUW0MEUy7YIsk/U7t18RkqzwrL6FCMqZ+ozZlAjLTTIbA1mQmBrtBsMLQEwh76bF33Ah3nXgRybvCMk06Iw+2oRlbP1GbMFadxM/PiZHExU0wIwLTIbA6kBDtu/SY4ygmHHngRyFviMFU8KyTZwZl5r6bHASIyhloRlhDAjAtMhsDKQEO07YEez9w2FPcFHF62p3b3XfdsOzj7N0x2ouPmT2a4LEOhxnn6ndvdfIF+4qU/FLYzbLoVr47OWlBFeq3Ut+nET8+Im67OJUpLiVpQuzifF1O7e66P+2e9FWsqxDKUxr5hLJQxxrklchwq6TX+J90j5w/teTmeIMaoy7B48ioOO/oGOSPiandvdYslIg0GOpoD1+Nq+Fvfhp+SWkJsplC7fC1JbS3a9veuGn53bSq92kqV4mp3b3Wk/8AQPt+Hqd291TjUADQ4ax2fw9Tu3upl5RYePYWYcbkNW/D1O7e6fv7U46qfdYDYE/E/uW42pvb3SMOYBb4JM5dppLLfiz043j4opbJzHV+s/djUppxzHG9Qhn1oy11pTWfMFXGyxxuiMvu42xmFm238sdW4nMmPdvLHkOEahEPrFy2NFc5jiVzGErmQJXMcSuZAlcyBK5kCVzIErmQJXMgSuZAlcyBK5kCVzIErmQJXMgSuZAlcyBK5kCVzIErmQJXMgSuZAlTWbAS8VBZTJY2/iGpSciXaZHux1VIstI8EKK++wghsOHGBcNjWT0hgtAtkQgpT1mEWbZghGCPJzU54LH8W0faaoQJiPYbve0x+fdNr3/9f//EADIRAAECBAQFAgMJAQAAAAAAAAIBAwAEERIFEyExFCJBUFEgQBAjMjAzUmFwgaHB8GL/2gAIAQMBAT8B71SsW9e5SzmU4irE/wAh5IbJ3MzJwri3/RbJDh82uvuXXBaC8tolsSamTsGHnglwvOJafbmVtHeJqeblfriWmQmgvCHMUYbcy1hXQQMzpDWJMunlp7IXkyFb9uzKG9z9PMIspL/9/wARPOBNMq0IW1iRw7hH0eLWkYinHM5dKRhsgsk7mlrGJynHFeOkSUpwzdPMO4MRO3CWkOSyGxkxLYWTTl5l2htgGAzpj9k8w/Nm/vt47iw0DYcQ9t0TzDrpPlcfplzFt1CKJgKncpViaIgPJHQY4ULiTxSAlQfrZ0gpZoWbq9nmJnK5RhJwptObp6gMm1uHeHHCcK4oz3LLK6RxLp6XRmkHXeM9yzLrp2eclGRABJOfrDbaN7dxkG0vzD+kYdcJ41Mu5OfIlhBNy3/ruUu3nOoETjmc8q++lgEyuPZImGxQQdDYomGBbbSgfv7Jh/IK4d/fsOo2vNssOPNmKNpsMZzYNGAa3eycYFtlsuq9ybC80GJ8kV60Nk7lIJzq6Wwwq1WvxyHfw+qnwpFKdmWrEpT8f9ehp35zdfEIDNgu086Q41Li0ixa23UxTRU2jKbUFcEddNIyGrkb/wBtE19yHLSJRBcCp7BrAsibauFvvDjKG5olddYWXYRm4vz7IwGcaCMTxib1A2T0VisVWL1i9YrFVLeKxVdovVIuXskt8hpX136dyl2CmHEAYnHxMrA+kdu4v3WLZElMPgdBXfuO8ZYyIXH9fjx2Xg9N+bx9oyw48VoJF7MmnJzH58Q4auLcvZc0cziq9Nvg65lAp+IlsXMnKHtEzMcO0rkYZiBzb6Mn1jGHjw2g+Ywh08SRfyiexM2X1bDpDaK5JcVDOKuK9ae0Ikmylyrf/EOTZmNqaD7vhXLqfbLzpRYbw9hpzMRIcZB4bD2hmRYlzvbTWJmWCa0chiXblkoEOYdLunmGkZY2ZfSG8Nl2zzET3tyLLcJXmT/U/SD/xAAyEQAABQIDBQcEAgMAAAAAAAAAAQIDBAUSERNQISIxMkAUIEFCUVJxEDAzcGBhkaGx/9oACAECAQE/Af5aveCPd6/sm7ew6l11DKL18BGqjElzLLiJMhMZF6xGqTMldieIlT2ovPxEaU3KbvQHaww25lg3UIbzT4CNV2JDmX0Xmx6da7BvfAlRe0tmjHiINFWy5etQnQO1IsIxAoyorl61CfSu1LvQYp1P7E3gZ4mYeoSzduSewORcxjI8BFoa2n71K4aRf5EhCLNRX7U95fKEfAR7/EZnAZlgJxV+j0ejNzGs50VSnpp72WjgffwFiRlpGAy043aPBqsmIRkwewSJLkpzMdPE9RUYL6Y6eY51/GpKPAN8vXKCPFPoG13+PRKLHr1DeGG8XRFzHqaOXUnPb69y9On+bueQwV3KL1ksYi/AZnmCOcwv/oNW9aLt0Xru0Vvl+1hpCt9VupLO0sQj/eo0xDLktCX+ArkWImIa8CxLhqWJq2lwBurc5j0S/wDx9xa7B+T40a3dt+kpzs7Jr9BFrD6ncF8BNldnYNwhArC3XrF7cRU6ouLglvxFMqZyWzzC2kJVZdadsRsIN1DGPnYBqtum7gotgI1n/Qs6u9P3nE5hYGGqWw05mJIOsoeRYvgI1Ljxl3oLaJMFiV+QhGiNRUWIIO0uPIXmLLaMpFmXhsDdJjNuZhF1uG/f4fqD/8QARxAAAQIDBAUHBwoEBgMAAAAAAQIDAAQRBRITMSE1QVGUFCIyQGGR4TBCUFJTdLEQFSMzNENxgbLRYmNywSAkRIKToWDw8f/aAAgBAQAGPwL00LygmugV2xcvC/St2un0jKSsuq7NOLDp7EpP9zDM0wbmIgOtq9RQ8Y5c59fNc89g2D0g7MvrDbLabylHYImJ9SVXFKogeqnYIcsSaVdDnOYvbFbUwlppNxtIoEjZ6QQzNpLjCVXi1eolX474Yal2UMIE2zzW002wFTMqhToNUup5qwd9RAFSaClT6RZ97Z/V6STKqQgMqaK0qHS0EfvDPvbP6usKcWaJEYSQpKtl4ZwXXTRIgoTVK9yoAXVSj5qc4xG8u2ME3jpoVAaIxSoBulaxhpvJJyvbepMzVRcQ0pHeR+0NipFZprSM8415bHFeEa8tnivCNeWzxXhGvLZ4rwjXls8V4Rry2eK8I15bPFeEa8tnivCNeWzxXhGtrUV2mZ8I1pafE+Ea0tPifCNaWnxPhGtLT4nwjWlp8T4RrS0+J8I1pafE+Ea0tPifCNaWnxPhGtLT4nwjWtp8T4RcNq2o4+cmW5iqj+VIr84T0kjcqZvq/aCldoTT/Y4uoirr5RuLJoYI5XMLOzEXURfdmCg7ME0gKbfUtW3GNYGLMzCV/wAh0oEfRujC3qziomJqvql43O6FYz1Eb2jRUfbJ/iTH2yf4kx9sn+JMfbJ/iTCGUqWsJFKuKqfLNe9s/q6qqVkM0/WTGxHjBKaqcV03F6VK+RhMw6GsZVxBVoFd3W2ve2f1dU5BKG64dLrvs0/vCUWaw24sHouqoPxj7DJf85/aPsMl/wA5/aJrl8pKNtApIUh4lQVXRTRDaWmuU2aNF6c0BI/hOcFtBSlw0qnYd4i43KrQUuFtaEaQhUCcdGJNVJKj5prlEu6EIN+WceI7QBT4w2XktrLrRUi6D09iYw0slaUuBpdEaO01r1Rn3tn9XU0ycohN4JClLWKw68UXZjFOKr1j/gZTNoxWml4mEeiTsrASkBKQKADZGG6m8jdGG0gITuEY+EA7vhV2XQL1QdG+EBTaVBBqmoyMcowhi+t1Rn3tn9XU3pmaSrBb+iaUg0KqZmBLyrYbaGzr7XvbP6upBho0fmDhops3mG2WxRCBQegGve2f1dSef+6lhhI/q879vQLXvbP6uouveqnLeYaQvS4ReWe059ebS19a64G012dsTMq+Qt1in0gFLwIhxKpltN1ahyYtUVT8YbUrQBNNE98Nqn5lEsHK3b22GpuamUMyzpAQ4rI1FYTaLk0hMkqlHtkG0hMo5CPvtm6HJ6XmUuSjdbzoyFM4dXJTSZhDXTKdkOJkZtEypvpBOyHJeUnG3nm+khOYhVntTaFziSQWRnozgWcqbbE6TQM7YRIzE4hqbXS60czWEMzs2iXcWKpSqumG+XTSJbE6N7bDc1NzKWWHOis7YRaDkyhMkul17Ya5R85CaQZH2+zOkcnkmG35BpwEuKJq7T4COVSroUhI+kHqGlaGHOQTaJm50ruyHGZObRMOt6VJTshcgxOIcnEFQU0MxTOPm0TaDPVpg6awiQem0Nza6UaOZrlDcvOTiGHliqUKzMNiemkSxc6F/bDT05NIYad6CledCJ2YmUNSi6XXTka5R85cqRyH22zdC7QamkLk0VvPDIUh2alZpD0u101p2Q6ZCaRM4dL93ZDjEnNomHWxVSE5iFyMvNodm0VvNDMUzj5sTOIM9UjB25VhFnOzaETq6BLJzNcoEhjJ5WUYuFtu7/KN4agl1tYcTXL84cmDhY7604g00CBsHbEu9MYSEsVIw9JUaUhqor/m2vjADzKHQPXTWEocaQ4gZJUmojBLKC16l3m90YOEjB9nd5vdBaQ0hDZzQlOiFBpltoKzCEgVglpltonO4gCCttlttZzUlIBMF5LDaXTmsIFe+MbBbxfaXRe74Dq2G1uDJakAkQC6w26oZFaAYTjModu5X01pAQ4y24gZJUmogNKZbU0PMKdEYOCjB9nd5vdE4+pC5dtspTcYICVq2w9YSm27PWgJw60CHRTfvg4LLbVc7iQKwVNMttqOZQmlYLqWG0unNYQKxjYLeN7S6L3fAdWw2p0ZLKBXvgLdYbcUMitANIGMy27TK+mtIAdaQ6BkFprAacaQtseYpNRGDgt4Ps7vN7oLSWm0tHzAkU7oKG2W20HNKUgAwcFltqudxIEFTTDbajmUJArBdQw2lw5rSgAxjBhsPe0ui93wHSw2XR55SL3fGJcTiUpfpp8uz72z8eoLcVoSkVMJdV9Y8ouq/OJhEiyXC1KpcciXdTbLtoSbiLyG1oFB/f0Az72z8eoIlk9OZWG/y2/9QANkOupQA47S+raaQ9KkEWdN3phpWxpfnp7BtjRMsn8Fj5U3lBN43RU5n5LledStIKKi8NNIUkEVTmK5QFJIUk7RAUk1B29WZ97Z+PUFH7uURd/3K8Pl06YnykBJ5YkVA/jTBlA+o/ToRiKpeopJhaSpKbjhRcW4Ohvp/wBxLNrdJdTNpq4lQUnoq6McnemS0yl1aC/oBNKUFf8A3KFTF6rmAUh0p83Epf7tMTd2YM0kNo55od+6FBv/AFyML/f/APCe6GmGFnDCsBTalD1c6f3i6XA2RJpUyDtVp8IuBwJu3KBSwkLBAropp29VZ97Z+Pl3Hl9FIrAW59a8cVf5/wCHIQFXReG2KBIAz0CCFJBHaIyEUSkJHZ8l66L2+kCqQaZaIBKQSOzqrPvbPx8uxIJ+rH0r34bB3+hGfe2fj5Zby8hs3ndC3XvtL5vudm4ehGfe2fj5Wbdk646RmnMCukxKtqW5NNXr60rJIGjP0Kz72z8fKllvmyANHHB97/COyPoWUNf0Jp6E+pPJcTCx6+dWmW6sM+9s/Hyd95wIGzeY+nSqUkfZV57n9W4dkBKBRIyA6siamEKMtfCXFp+7rthD0u4l5pYqlaDUHy3zbgLpyjExvNu373fCMJpbykTLSrraamgMBCbPtBKjkXGKJ/MwpTzd9vO630oKG5CebXTQp9m6nvhRmGr6f5Y0x/l5dxo/zhSAH5dxxe9kVgFlu43uXnF0y0xe3hHN74vONXm/VTnBSiz52Wb9oJcrMYqrNtZ+Y9q7LknwjVtqcMY1banDGNW2pwxjVtqcMY1banDGNW2pwpjVtqcMY1banDGNW2pwxjVtqcMY1banDGNW2pwxjVtqcMY1banDGNW2pwxjVtqcMY1banDGNW2pwxjVtqcMY1banDGNW2pwxjVtqcMY1banDGJqTds207jrZTXkx0RfkpgpRtaVpQr8oSw7Z76JjIrZSVt+EJdF7nOYVy7zr26nlik6QYxUI07K7ILaxeScxF9tPO3mAHRlkRsi60mm/tjFWjndm2LlObSlIxUo52Y7OtPplUKcnJj6BlCBUlSvCsJmLZXirz5Kg838zAZlmUMNJ8xtNBHzrhnkbi8MZ6Dlif29IA00jL/zD//EACsQAAIBAgMIAgMBAQEAAAAAAAERACExQVFhEFBxgZGhwfBAsTDR4SBg8f/aAAgBAQABPyHfQ5JGgk2QjyAgAWAzXKPeFFXau0XpYxjlec1Q6ARKNSldlIOgA6uLd5qQrcCWDuckWvfGNGPNp+0vxGsE4wJAy2Dd1algCcFFgytKMOgD0xSIVZECi5ZejLJ1O8R3lQmsNg1A10+S0QSbJjuNWgHBPsk6J71aAcJI0wCB05rRAIgwxolhETOOTgxaQwQ+EHdlxiyR9pZktqDSYTP6cv8Awy/8Mv8Awy/8Mv8Awy/8Mv8Awy/8MjQJQCuD+QZZYYZZYYZZIEDy+Uf7DBIc/J+KQYZwzehic6iHQoLwHUHCY5tEQzwUTxRWchzi+5RunQzN37x0vO6vkf3AliUKB9VpAFgYI4jw/wAjzjjrkmGH4k33Ew4ZAAiNXTGenCDxqxTOZOyvS82Kw1mcNt5jtOxbmYCSQANj+WHWCSWqzDEiBUw7Pz4Prs6KEXGp5OUQ0Ax64qYBx8ghCaZBbdGzjliEFIJq7Ig06Rw0LpYCoyVoacawYHCqK6DkdHUB7GBmhcYNODsrQbmQADorC8AOUoUzv2yDwRAWG1Q45YJRioMVWkBAMGQAYCGTEQW0tA8I18kLoHCyLDOZGMtiSNBFw4QUoQ2KsRAYgZbD457mQJQmahOovZOg4Ss+RMTiTrFsUuiX+VDuZgx1jXN9AZiAEi2CoiKsLVL7t4cqOpmuV3LeTgBuriOgHWkPtxCVvt84VgJ0Bh7kMUBCSVOisgVnQwWUBGLkgFjWzoIRRrMhJmJAb23SGojPKiNIHYEwfxSM2dsHDAwGa8eh3pGoMu0L6IndIeFYdWNDAZIBd+wgkjNi4jcZxjv1FNi2EDTcQ2JthL4iByGEu+7ABp0Gcx7EV7L2ETR6tThhcpUPqH0CHKhJR2s1vSU7AiNA08gMWsE4tY1BCQEFNe61xA94qtDWIzjNmlsNYcDDgWEQ3U1ZWrDk6B7oGMBC8yICULDMGMeyjW3sNZi/FiodEMjLhSA6BjCEKgHfi0O8uCLDOYRzJKpKGXTKCwJhVvauNDDN6NEgomozl0jA9AwhKBya6wwWVoajDgzgQrqVaxd35CYZxvEYaDD3kSAw1AmOrWUBqpkhiEUFbQQQgAhIOM2sWAQjrLLe3BRUBgeFbGKfSBKHZR/RGY6QA3pLVcpeJS9Dgx6TvaxMCIXhRIYbvmhGEYcX7idsVYEYItCLI6y9jNflOW0xmDkYvICFI8rQJIbKGrReGwWkFMyFTAUxcduHCUD+it1MMj7tKWHCiXEo1liYbvVOAJiL0l0rfMKByzS4p9Hgc4ZH+U5bv2Ajg4sDyACrUn0IdWiNzgxR/SdzsNgBFsSt28VL9rVOIiXhHgecqKRp+4is3I0Ctmj+Hlpyd189U97M2QEAiQ1gqmx2ULgThgAD3OAxgOkwc3BkkFWnwV89UooVVYMz5AYISQBKHpASbJBnSU7ohT1MbEtesLI7kVivsjabAklRoDpsuA53VZwCQwgTVAhgNSqmzgnIMFYPODoDMBY7mVI3bnVY9AHXaUAABCIMQj4BpEGuAQCAwRbMUjcowRgKUWScTj/v2JqJAdjaFjQqwxIxUBLPGAAAw1okFJIjwQQbENOg3fOIOgFw6AUDSSA7HsICoV5XVhOakdaErOQEez+BE5FiQobwGm41T+I8v1BaVnEqXIIf4JAkE3CViQ5qcOglZVTlABXOGa4shlYE1JRWwymlkBUDcAeMDVbCN5cYaMyAKlqZRNQg3GqZwhnGU9/6QEN4qvoIaBc1g1Jn/kHQ6AIbxVUHBotMrgHB8qaG5YzcYRTh2Y7tVKGbQwJbEiXqJxtO3EfTY9xFghZpiB/IHn+T3BSoGpMgLmJsUWuUgDNHQSA5bB8S51ZZCgGMQ0DxlOrQA/KagwmCsAOKPoUZRBMOwUBDT5RUXMoItLNBppmY3cpJ08yhQomgveGMpIJRPbCaAKFzymIBV16HKEBQiLjeEIQBAk/Si6zu/wAAUI6zX5d17J615nvXmeteZ715nrXmeseZ615nrXmeteZ615nrXmeteZ615nrXmeteZ615nrXmeteZ615nrXmeteZ615nrXmBky4lUUN8Cjyj3sX1y8rwy3Gp3mTcePWFwOgZdXYfD8hEUEyKIg4yzTqBMcMATCRMYcH0oFaGkNpN5iMFyklliUfVUyyHFAYRA6NSuKBQbFsOx7XHHHHHHHHHHHHHHHHHsGIzDAOzOUY3oE+7l1lvxAHSEAKiU7CzqRyVgt8ZfJL0DcEVG1f8AW//aAAwDAQACAAMAAAAQkkkghMkkkkkkkkkkkkkkkkkkkkkkkKkkkkkkkkkkkkkkkkkkkkkkkklckkkkkkkkkkkkkkkkkkkkkkkgf1kkkkkkkkkkkkkkkkkkkkkkggBkkkkkkkkkkkkkkkkkkkkkkkEkkkkkkkkkkkgBgAkkkkkkkkkDEkkkkkkkkkkkZesAQkkkkkkkgsEkkkgAAAAAFrGR2nckgkkkkkgkkkkkkkkkkVkgpwl7kgkkkkkkkkkkkkkkkkH4kg5ZBgkkkkkkkkEkkkkkkkkFbskAHYAkkkkkkkkgkkkkkkkklBy9E0EsEkkkkkkkkkkkkkkkkg6mFAkkkkkkkkkkkkkkkkkkkkkG0UmEkkkkkkkkkkikEkkkkkkkH8kkkkkkkkkkkkkkJMkEEEEEEEukkkkAggkgkkkkkBIkgkgkgEALikEgAEkEgEkkkkk0wkkEkkkkjwgkkkkgkkgkkkkkkkEkkkkkkgzQKn18WkkkkkkkkkkgkkkkkkkBkdgWhemskkkkkkkkkEkkkkkkCUkZfHs/bkkkkkkkkkgkkkkkkgxkkgJAgKMkkkkkkkkkEkkkkkl/Ekkkkkkkkkkkkkkkkgkkkkkgn/FkkkkkkkkkkkkkkkgEkkkkgIQikkkkkkkkkkkkkkkiiEAAEgtTkIkkkkkkkkkkkkkkk66Wky1oTEBAAAAAAAAEhYkkkkkY3c2P7gpkkkkkkkkkkkFMkkkkkiAAAEMgkkkkkkkkkkgkMkkkkkkkkkkkkkkkkkkkkkkkkkkkkkkkkkkkkkkkkkkkkkkkkkkkkkn/xAAqEQEAAgECBAUFAAMAAAAAAAABABEhMUEQUFFhIEBxgZGhscHR8DBg4f/aAAgBAwEBPxDnQxYS5mcyAFY4Ts4iPRP3yvMhRsjhrUCH++X5jMOBp8yq003TRxiI/wCENs3lzLlhM2Vz5Lqeo/B5c90b1g/vSYqr+4gPh7mIjMmOsBUO4I3cpttFGhfSE18xuRN5lfbWHtJAork2sNbvq+roH1+9EKjoMB4WU8N4MZXJv3OD9ETtnwnDj7d89JhXYEaqx7RTtuMfeVL3U90ubA3LtNN2KGBRTOexXfr1lVyZ2BmFNNKDaEPBcSosnbD9YRJZNfiCGoA/D8mC9Jpp19l6HxAa8C8V43kyEG6/j6zVdXgmL4HflyGW/wCg/jzJzt3/AK/SUnoYPbHnlOgW/qYYLMdKa1i9Zg13n08lcbD7xbz55CCwRqEZiad7W4HpVNdq8jU62dfnHzzJCN2PNLA9tfrfMiALBX4ojMt+GdCDaL44gunCmriguU6y2jFKnk1HoX70v3xMMsNY1Z7MvQ2jdliVLCZQcDd+uTtVS0KtpXeKw/s1zK5WqNhajjfT2jZCi7S9HKr9YzTO3+/vWA1LPVT98zYLbO+l3Xt0g/0F0o+kBazlQujRnQ/PzHXka7uY42MPbX6+C2twVVcWKuKbwBsYu7uOsXBGjKjLELCLAiri8jJjyx79X+7xbb8dEo8NHCuQs35ftuwr078n3eY2bjtFSKweDnPLwVRDWNmOg7vdND+KFWuGvIgvb3g6eul1t/kzdfj1ZZXt9nVXV7/9Ioa2DyMwzbN+5dV8RyzG1wlPJlYF9OBEpLLDG4ne6TQnTTeGN3UDZI0/l/WeyfD78MeYC2pqulXe1db/AMly6zCIGGa4MYha4OocHBNBc1mYBUTr8yunG4eYe4ltku8uxHy1ect/23//xAAoEQACAQIEBQUBAQAAAAAAAAABEQAhMRBAQVAgUWFxoTCBscHwcNH/2gAIAQIBAT8Q3oobmKIUUFhtyL+YY4MgjYdEJTUjlRRShw6Rt10cey1uIah0l8iqOnLhTWV1/wBYd2k5BtM8YkNQMEfWiarZxa9kCqbygCAGzMQmT5eUWL4qcC2cif2oAAFwuSUpFYtJQWPuh1ISipgdlKyMGgApbnC+wPiMTWOqRA+giKNoV2YlRO04aNseACiq8VtSF1llMEBW3kpeJ7PuDBYjMPKKOWM9aoSZ+GPnxX3khCoLZ59IOfWH2LyTdDB51YLIhax6DLbiRKkAqDHrYuMYMYMRjZqF+X3ibQjTq58OOAqSjuxGq7wFp0+41+lIZBQ6ITxeIwDtAZVSnxshpeAe88CGCF4ohEIIQiDcIhEGx0o9zF6y2K+BBoyKtxv5Trbo4MgFUKJFwPXcASxB5g5EI6l4rYDHfy9QAMxkqj7mAaQbGYnuwVh1bMa7hiNVET9PCKl3QM9Q5xMEQDRy/wBDaDwQKveADesAUWyyEtAEtGXI4ciZYCoYA1YhdSAqfpl9GWCzjfp7+sv4l//EACoQAQEAAgICAQMFAAIDAQAAAAERACExQVFhcRBAUCAwgZHxobFg0fDh/9oACAEBAAE/EP124acdYE/IQWnWors5YOjxgF3kENQXKKge4+PyJQ7degha4APYezCcJRP70LHzHzMS1jw5ekbndLv8gdT6sAr8vQdqHeTU1JS7QQZ45S94+8Kj6U8ToHZq4JbY2FIA6MD8eO3gp3wSKNidooww8VJoGag2+3eEv1AsjDIQRukz0AoDJTte3An49339zAuXL+i/ZuJXNCSjgAjiV07+5g/9FbkfKwPnHxwVKHkQu/WAN0V5V0B24nIMGh9RR/vC3THFFl2gfy46VScbkRwwOagvvdQ8g4zsKbr3/wDvWHk3Do8G6PpBwaD9jUmz22o9SnyZ7zc4zehOn9pEUKFChQoUKBGiK+fbAX+M/wBxj/eY/wB5j/cY/wBxj/eY/wB5j/cY/wBxj/eY/wBxijoDfeDQ2cAec0iYp8F4CkqDynW2aznpgqbjvk2GHwGrluJNv4cJYJ7ABjuUt7xirpeLuzYlJP5x4jLqNqQNSvXePoe87lSnIcV6xzqgKCnnrytKrjRG1ROi+BCcCEkuKmEanXQksQ4V+MJZK/1l13kIOI63eW+/Bhx+7tb7SIC3J9eWU0TaSvh27MQ25quyv/ogVh9K/M584PQBhSxC5MNFsMILTFI2Xx9HnBjny/RP3tLfaQE6T2jr168N9MAPFSgaIqz5vOD+lWtqL7Mg3ECeXhgviedLx9CHZrC4LKagkAYyLGzrJ++EAIWB3QcPBEyOAERaFYOIPnlwOTaVh5SRNNXRhOhMAa5Wwl5VtYWcEY22rRUi2HO84fQb9ivsiOKK4/RZcdbL28a2D96JqBV3onCIfQLnywlStu4dFtFSuxNYR8C4iAHAEA4Jgb0hE2qhEREojj2GRoq8ryva7cnsT4kwgvaXAJI9yFIXSrQht1vCLByHZvCdTCQRFVEEEDEAAowJnKYu/sh9kQEV0YFPxAy1hv8ASLziHRbVX5Sqrzh7fQl51xjabKRhzh1foS/UuLPstrfYxwvHgbA/CXHqGFFOPwEr5V2va/SqOTrACd194woHoLD6PGvxeiAuNdXGmpE/4HyHx9YfVp3l/FaOcNqZjwF7UD2mEpcAc5a/MHoPvkVweVcBEI15l1ccX2rMVaFCxnGRQgIDc+2xU3Ped2L4ha/wGELUl0RIR0f2GacYNEEgu9wcDctLoCbkzkfWS2sJIlfyenOCVwBDRRB03ox5WgSaDQ5E14zfmIOVgsNXGXMeIm1A0ppc0d8JuuwCw99Yv9Cpii6VHzmjls7iSiNvG8kZZqpQpqE3mvgkl6hinFOfOc/jfdVhd7cYWFmPeSArfxgNutUBergXhyZy7oTSjEESbDLrjKF62jjSDQ7lNYNTQEzRULY8eMV8cayqqAnDWEIkTXwqDod4boyIG/ke7BQF7dGkRyJvCIC4w2KaQfw4Xo1saBFOI/vPEihyOQeB47zcdE1IsROheM4Rkxrvh4KcdZswsvFb0OqXXeH8pze/gdC8YhIwJrmw56/GGLM0hWAaEGvOa5ixuJSg2l33gGjqSdVyBXnrCqNR1kJFdd4VS+hZp6kCE239t4w+ayLf4twUZvjEp1GxUEQFaAVa1tlXd/SiLUmLdV1sPj90DuPrL+t38SwDLD+sWDYpaIIEIKaOFMhc+tAaBET4zSpdOlbNO2+OcIQ47XVIDe9bx23CmG9gF5ec5e7MfNBhOtQtFsALsHfeJ2oA/Igpe97xwtDSoIcP+2T58TAaVKTqOPlkBVaglQvRnLqthWVgx0ceDJvk03kICENEwuxAijiMiXWsesox11o05bcctw18wUXBxthihLcGRYwHnQAOjo0V1irc8UFmksrL5cKfIfOcBccsSSdWjStXe8VlVZLYjw6a5xohiIzkIidb1hWtAwiygpz1iLevl5l0MsLPBjuZvxMghwYPAgfAgGIQ0azXiBJHn4O1eOXCbsCieaCrrk6y8p9u3MANLzgmgQ0GzQWVl4rhxGQllrALXe+8MhyXB5pK3veJbSnqSLpsijvhce8qfDkERPnDjZl2GuvkBllD9/b9LUv7d4rb0FX+jCAqFlIJ5JvscYgoIGqlgkBSrWHb5EI42DGxEkhMCftJf1EP3xriSnYtv4VJHTx2YFgwDgAw7WA6A8iCgcFfLhBDrOsHDioBkx4UzedgaG8D5TLS9fQJYhVQpbliYb0/Q1R3uBc08XVw4IT2FjPDHIEWDLCkclNl5wC+hpvINJ7wd9naD2Pj8KbcG6EBmhEv5H2PH1U6QOiPSd4aCGUl44deMua7ij6CgqnppkObvbcJlTh6eDQDzRCmhgENlf53GC0mEYWwllEEuHYNp0SY8tNM8O5D0YiqmIRHWuFEho8hbwaL1ExxH1A9WuJu5EjrBqQOCgCxdDDtPODyysQOQAqEBx3YXn8Ea4FfdKWGh7WB85uXWrw8f/Al7/Q/bIISijb/AMYya0aNpw31i7FJFKR6Hnt/vAwFMgfEc+8Ap4oGhqOuQwyNo458HjAIJ0T/AEB7yGzdkWPnAQxCixYdpt/vHHBacuWLxYf1nFF3n4Xrr+sHn8EbbidLBlOUeJVOY8AA4P1QyGQyTJ9JchkMh+BNXWIbBb+g8xAB7zd/VdJA8AfyC4fjzXKNkliAHyqvUuaLjQyKIFmvnCDWBBEBdJ2f7c3kYjDs/AX9w24SIBKr1lIfmgbU1KIb2HbhkPQErzzBecG4fwy/gFgvjANc/Bwa2/8ARpjrHDlv0uWZcuX6uIXLZeiez0Dg+geT4wl7oa0qcYDbEgzgBoMn/P1T39lGjr9gi7w402jxgp2F1PCf8nJw/umLyTBzQIwyCr/p274ymqHkKiVgZTtqq+Uj3bxr940QLD6oGquQIBi0XaQXry4TB8yHgJ5fJJiuDBq3wktNPZ1nEwkrewp8Oe/GL9CaAuwKL+XPWcwAKlcKbmGACtZBX2eg8pht+K1/BjXy2ZvgVEvKlwKugE1wYB9eTCg32lKhCpUqVKlSpUqVKlSpUqVKgwTNEaX0MGxuKpPDssXSDpw0W9JAo9JTuAjhHbo5ut8hKV1F4TBoPn9sbjgLro9A8mc981A8jpxDJi6DxlfntG3J4Hr1iPh7APJ10dYeftp5C4aRkdR4E2ZBuUDTxwFaad8wP/3AgBxg2esH6Bv2oAABrdJ9sIHgpwRZhhDYjZ6Pb8jCnLDuNqC9vBXzzlAQX0UdJc2dK3tUP70uS/SZMn3iwv4jUjHqmvrEkJ4/8t//2Q==)"
      ]
    },
    {
      "cell_type": "markdown",
      "metadata": {
        "id": "1AidOQClMnDA"
      },
      "source": [
        "## **Composizione di funzioni**\n",
        "\n",
        "Come per la regressione lineare, l'interpretazione della relazione tra featrue e label dipende dalla valutazione di determinati parametri (es. coeff. angolare e intercetta). In questo caso, però non avremo più una sola funzione da trattare ma una funzione composta.\n",
        "\\begin{align}\n",
        "  f(g(x)) = y\n",
        "\\end{align}\n",
        "\n",
        "\n",
        "\n",
        "1. La prima funzione è rappresentata dalla già nota equazione lineare.\n",
        "   I suoi parametri (coeff. angolare e intercetta) ci daranno il criterio matematico con cui tracciare la linea di demercazione  tra le varie classi di appartenenza. Ad esempio, nel nostro caso, la linea passerà peresubimilmente tra il minimo dei valori appartenenti all'evento non verificato e il massimo dei valori restanti.\n",
        "\\begin{align}\n",
        "  g(x) = z =  (ax + b)\n",
        "\\end{align}\n",
        "Va da se che il coefficente angolare, in questo caso non aggiunge nulla al nostro modello. Quella che stiamo descrivendo è una retta parallela all'asse delle ascisse e il parametro che stiamo cercando ci darà l'offset della retta.\n",
        "La notra equazione della retta avrà quindi più l'aspetto di una somma pesata.\n",
        "\\begin{align}\n",
        "  g(x) = z =  (x + w)\n",
        "\\end{align}\n",
        "\n",
        "\n",
        "\n",
        "2. La funzione logistica prenderà la posizione di ogni punto e stabilirà in base  alla posizione rispetto alla retta trovata, la probabilità di appartenenza ad una delle classi individuate.\n",
        "\n",
        "\n",
        "\\begin{align}\n",
        "  f(z) = y = \\frac{1}{1 + e^{-(x + w)}}  \n",
        "\\end{align}"
      ]
    },
    {
      "cell_type": "code",
      "execution_count": null,
      "metadata": {
        "id": "Q0Q4Tug8xkQ3"
      },
      "outputs": [],
      "source": [
        "\n",
        "def linear_equation(x: np.array, w: float):\n",
        "  return x  + w\n",
        "\n",
        "\n",
        "def forward(x: np.array, w: float):\n",
        "  z = linear_equation(x, w)\n",
        "  return sigmoid(z)"
      ]
    },
    {
      "cell_type": "markdown",
      "metadata": {
        "id": "C03XlGsDcsEl"
      },
      "source": [
        "## **Metodo della massima verosimiglianza**\n",
        "\n",
        "\n",
        "Da qui in poi, cercheremo di capire come cotruire una sorta di **black-box** al cui interno una serie di passaggi comporranno il processo di classificazione.\n",
        "\n",
        "La metodologia da usare l'abbiamo già afrontata durante la regressione lineare.\n",
        "- Per prima cosa si cerca una funzione che restituisce l'errore ottenuto dall'applicazione del mio modello nel predirre o classificare.\n",
        "\n",
        "- In seconda istanza si applica un metodo che ottimizza l'operazione di minimizzazione degli errori di predizione o classificazione."
      ]
    },
    {
      "cell_type": "markdown",
      "metadata": {
        "id": "OFoK1YNIRtyo"
      },
      "source": [
        "\n",
        "Il metodo della **minimizzazione della funzione di costo** usato per la regressione lineare non potrebbe mai funzionare in questo caso.\n",
        "\n",
        "Il risultato ottenuto fin qui non è rapprestnato da \"distanze\", ma da da una distribuzione di probablità in cui ad ogni \"feature\" è fondamentalmente associata una percentuale.\n",
        "\n",
        "Attraverso il **metodo della massima verosimiglianza** si cerca quindi di ottenere un risultato di minimizzazione sul grado di avvicinamento alla classe di appartenenza per ogni valore processato.\n",
        "\n",
        "\n",
        "Nello specifico andremo ad utilizzare la **funzione log-verosimilianza** (**log-loss function**).\n",
        "\n",
        "\\\n",
        "\n",
        "\n",
        "\\begin{align}\n",
        "        l = \\dfrac{1}{n} \\sum_{i=1}^n (y_i \\cdot log(ŷ_i) + (1 - y_i) \\cdot log(1 - ŷ_i))\n",
        "\\end{align}\n",
        "\n",
        "\n"
      ]
    },
    {
      "cell_type": "code",
      "execution_count": null,
      "metadata": {
        "id": "3RuGc8Ldbaj1"
      },
      "outputs": [],
      "source": [
        "def loss_log(x: np.array, y: np.array, a:float, b:float):\n",
        "  y_hat = forward(x, a, b)\n",
        "  return (y * np.log(y_hat)) + ( (1 - y) * np.log(1 - y_hat))\n"
      ]
    },
    {
      "cell_type": "markdown",
      "metadata": {
        "id": "_jb36a8bcLOM"
      },
      "source": [
        "## **Discesa del gradiente**\n",
        "\n",
        "Il concetto resta lo stesso già visto nella regressione lineare, naturalmente in questo caso si calcolano le derivate parziali della funzione di log-verosimiglianza.\n"
      ]
    },
    {
      "cell_type": "markdown",
      "metadata": {
        "id": "OKjf44V8hgJR"
      },
      "source": [
        "\n",
        "# **La libreria scikit-learn**"
      ]
    },
    {
      "cell_type": "code",
      "execution_count": null,
      "metadata": {
        "colab": {
          "base_uri": "https://localhost:8080/"
        },
        "id": "5Mv2geUkhhac",
        "outputId": "9e106870-dd7c-4675-93e7-75fa4be2896c"
      },
      "outputs": [
        {
          "name": "stdout",
          "output_type": "stream",
          "text": [
            "EVENTI PREVISTI [1 0 0 0 1]\n",
            "EVENTI REALI [1 0 0 0 1]\n"
          ]
        }
      ],
      "source": [
        "from sklearn.linear_model import LogisticRegression\n",
        "\n",
        "logreg = LogisticRegression()\n",
        "\n",
        "\n",
        "# preparazione dei dati\n",
        "px = prenotazioni.to_numpy().reshape(-1, 1)\n",
        "ey = eventi.to_numpy()\n",
        "\n",
        "test_prenotazioni = px[:5]\n",
        "test_eventi       = ey[:5]\n",
        "\n",
        "# training\n",
        "logreg.fit(px, ey)\n",
        "\n",
        "\n",
        "# test\n",
        "test_classify = logreg.predict(test_prenotazioni)\n",
        "\n",
        "\n",
        "print(\"EVENTI PREVISTI\", test_classify)\n",
        "print(\"EVENTI REALI\", test_eventi)\n",
        "\n"
      ]
    },
    {
      "cell_type": "markdown",
      "metadata": {
        "id": "Rv7_0ct0MJmt"
      },
      "source": [
        "## **Training, Test**\n",
        "\n",
        "\n",
        "Splittare in modo diretto questo tipo di dataset, non sembra una buona idea vediamo perhcé:"
      ]
    },
    {
      "cell_type": "code",
      "execution_count": null,
      "metadata": {
        "colab": {
          "base_uri": "https://localhost:8080/"
        },
        "id": "e59wbKcmytRN",
        "outputId": "d8ac1e77-16cd-4f5f-925a-48c25bf4b4e3"
      },
      "outputs": [
        {
          "name": "stdout",
          "output_type": "stream",
          "text": [
            "20.0\n",
            "80.0\n"
          ]
        }
      ],
      "source": [
        "eventi_count   = eventi_si.size + eventi_no.size\n",
        "eventi_si_perc = float(eventi_si.size) / float(eventi_count)\n",
        "eventi_no_perc = float(eventi_no.size) / float(eventi_count)\n",
        "\n",
        "print(eventi_si_perc * 100)\n",
        "print(eventi_no_perc * 100)"
      ]
    },
    {
      "cell_type": "code",
      "execution_count": null,
      "metadata": {
        "colab": {
          "base_uri": "https://localhost:8080/",
          "height": 74
        },
        "id": "eQ7iFAMV6mvl",
        "outputId": "50293b31-db53-450c-aba0-b8cfeaf6d08c"
      },
      "outputs": [
        {
          "data": {
            "text/html": [
              "<style>#sk-container-id-2 {color: black;background-color: white;}#sk-container-id-2 pre{padding: 0;}#sk-container-id-2 div.sk-toggleable {background-color: white;}#sk-container-id-2 label.sk-toggleable__label {cursor: pointer;display: block;width: 100%;margin-bottom: 0;padding: 0.3em;box-sizing: border-box;text-align: center;}#sk-container-id-2 label.sk-toggleable__label-arrow:before {content: \"▸\";float: left;margin-right: 0.25em;color: #696969;}#sk-container-id-2 label.sk-toggleable__label-arrow:hover:before {color: black;}#sk-container-id-2 div.sk-estimator:hover label.sk-toggleable__label-arrow:before {color: black;}#sk-container-id-2 div.sk-toggleable__content {max-height: 0;max-width: 0;overflow: hidden;text-align: left;background-color: #f0f8ff;}#sk-container-id-2 div.sk-toggleable__content pre {margin: 0.2em;color: black;border-radius: 0.25em;background-color: #f0f8ff;}#sk-container-id-2 input.sk-toggleable__control:checked~div.sk-toggleable__content {max-height: 200px;max-width: 100%;overflow: auto;}#sk-container-id-2 input.sk-toggleable__control:checked~label.sk-toggleable__label-arrow:before {content: \"▾\";}#sk-container-id-2 div.sk-estimator input.sk-toggleable__control:checked~label.sk-toggleable__label {background-color: #d4ebff;}#sk-container-id-2 div.sk-label input.sk-toggleable__control:checked~label.sk-toggleable__label {background-color: #d4ebff;}#sk-container-id-2 input.sk-hidden--visually {border: 0;clip: rect(1px 1px 1px 1px);clip: rect(1px, 1px, 1px, 1px);height: 1px;margin: -1px;overflow: hidden;padding: 0;position: absolute;width: 1px;}#sk-container-id-2 div.sk-estimator {font-family: monospace;background-color: #f0f8ff;border: 1px dotted black;border-radius: 0.25em;box-sizing: border-box;margin-bottom: 0.5em;}#sk-container-id-2 div.sk-estimator:hover {background-color: #d4ebff;}#sk-container-id-2 div.sk-parallel-item::after {content: \"\";width: 100%;border-bottom: 1px solid gray;flex-grow: 1;}#sk-container-id-2 div.sk-label:hover label.sk-toggleable__label {background-color: #d4ebff;}#sk-container-id-2 div.sk-serial::before {content: \"\";position: absolute;border-left: 1px solid gray;box-sizing: border-box;top: 0;bottom: 0;left: 50%;z-index: 0;}#sk-container-id-2 div.sk-serial {display: flex;flex-direction: column;align-items: center;background-color: white;padding-right: 0.2em;padding-left: 0.2em;position: relative;}#sk-container-id-2 div.sk-item {position: relative;z-index: 1;}#sk-container-id-2 div.sk-parallel {display: flex;align-items: stretch;justify-content: center;background-color: white;position: relative;}#sk-container-id-2 div.sk-item::before, #sk-container-id-2 div.sk-parallel-item::before {content: \"\";position: absolute;border-left: 1px solid gray;box-sizing: border-box;top: 0;bottom: 0;left: 50%;z-index: -1;}#sk-container-id-2 div.sk-parallel-item {display: flex;flex-direction: column;z-index: 1;position: relative;background-color: white;}#sk-container-id-2 div.sk-parallel-item:first-child::after {align-self: flex-end;width: 50%;}#sk-container-id-2 div.sk-parallel-item:last-child::after {align-self: flex-start;width: 50%;}#sk-container-id-2 div.sk-parallel-item:only-child::after {width: 0;}#sk-container-id-2 div.sk-dashed-wrapped {border: 1px dashed gray;margin: 0 0.4em 0.5em 0.4em;box-sizing: border-box;padding-bottom: 0.4em;background-color: white;}#sk-container-id-2 div.sk-label label {font-family: monospace;font-weight: bold;display: inline-block;line-height: 1.2em;}#sk-container-id-2 div.sk-label-container {text-align: center;}#sk-container-id-2 div.sk-container {/* jupyter's `normalize.less` sets `[hidden] { display: none; }` but bootstrap.min.css set `[hidden] { display: none !important; }` so we also need the `!important` here to be able to override the default hidden behavior on the sphinx rendered scikit-learn.org. See: https://github.com/scikit-learn/scikit-learn/issues/21755 */display: inline-block !important;position: relative;}#sk-container-id-2 div.sk-text-repr-fallback {display: none;}</style><div id=\"sk-container-id-2\" class=\"sk-top-container\"><div class=\"sk-text-repr-fallback\"><pre>LogisticRegression()</pre><b>In a Jupyter environment, please rerun this cell to show the HTML representation or trust the notebook. <br />On GitHub, the HTML representation is unable to render, please try loading this page with nbviewer.org.</b></div><div class=\"sk-container\" hidden><div class=\"sk-item\"><div class=\"sk-estimator sk-toggleable\"><input class=\"sk-toggleable__control sk-hidden--visually\" id=\"sk-estimator-id-2\" type=\"checkbox\" checked><label for=\"sk-estimator-id-2\" class=\"sk-toggleable__label sk-toggleable__label-arrow\">LogisticRegression</label><div class=\"sk-toggleable__content\"><pre>LogisticRegression()</pre></div></div></div></div></div>"
            ],
            "text/plain": [
              "LogisticRegression()"
            ]
          },
          "execution_count": 29,
          "metadata": {},
          "output_type": "execute_result"
        }
      ],
      "source": [
        "from sklearn.model_selection import train_test_split\n",
        "\n",
        "\n",
        "x_train, x_test, y_train, y_test = train_test_split(px, ey, test_size=0.2,  shuffle=True, random_state=42)\n",
        "\n",
        "logreg.fit(x_train, y_train)\n"
      ]
    },
    {
      "cell_type": "markdown",
      "metadata": {
        "id": "p4NNqPGQHbcK"
      },
      "source": [
        "## **Misurare l'errore di classificazione binaria**\n",
        "\n",
        "\n",
        "Nel caso di una classificazione binaria, un metodi di verifica piuttosto efficiente è la costruzione della **matrice di confuzione**.\n",
        "\n",
        "Durante il calcolo di questa matrice vengono rapportati i valori rali con i valori previsti in modo da dare quattro risultati disposti secondo il seguente schema:\n"
      ]
    },
    {
      "cell_type": "markdown",
      "metadata": {
        "id": "eSMK9gk1JCJA"
      },
      "source": [
        "![conf_matrix.jpg](data:image/jpeg;base64,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)"
      ]
    },
    {
      "cell_type": "markdown",
      "metadata": {
        "id": "uf-M80OvURbf"
      },
      "source": [
        "- **TP (True Positive)**:  numero dei campioni positivi correttamente previsti\n",
        "- **TN (True Negative)**:  numero dei campioni negativi correttamente previsti\n",
        "- **FP (False Positive)**: numero dei negativi erroneamente previsti come positivi\n",
        "- **FN (False Negative)**: numero dei positivi erroneamente previsti come netagivi\n"
      ]
    },
    {
      "cell_type": "markdown",
      "metadata": {
        "id": "VHM_GuFsVI4I"
      },
      "source": [
        "Una volta ottenuta una **matrice di confusione**, risulterà molto più facile ricavarsi le misure per una valutazione generale.\n"
      ]
    },
    {
      "cell_type": "markdown",
      "metadata": {
        "id": "tCa6CA3vVo6g"
      },
      "source": [
        "- **TPR (True Positive Rate)**: $\\frac{TP}{TP + FN}$\n",
        "\n",
        "- **FPR (False Positive Rate)**: $\\frac{FP}{FP + TN}$\n",
        "\n",
        "- **Accuratezza (Accuracy)**: $\\frac{TP + TN}{P + N} = \\frac{Previsioni \\ Corrette}{Totale \\ Campioni}$\n",
        "\n",
        "- **Precisione**: $\\frac{TP}{TP + FP}$"
      ]
    },
    {
      "cell_type": "markdown",
      "metadata": {
        "id": "6BSZcev_ZYRP"
      },
      "source": [
        "\n",
        "\n",
        "**N.B. Quale misura scegliere?**\n",
        "\n",
        "Non è una scelta scontata. Avere un buon tasso di risposte postive vere e false e quindi un buon grado di accuratezza, non è detto che sia la scelta più ottimale.\n",
        "\n",
        "Ad esempio, nel nostro caso, vogliamo sapere quando il bar organizza eventi, quindi il tasso di campioni positivi corretti è molto più importante delle altre misure."
      ]
    },
    {
      "cell_type": "code",
      "execution_count": null,
      "metadata": {
        "colab": {
          "base_uri": "https://localhost:8080/"
        },
        "id": "hdSVMqAtXmGY",
        "outputId": "fcbe7f61-318f-47c1-c8d6-a65bf5a24fdf"
      },
      "outputs": [
        {
          "name": "stdout",
          "output_type": "stream",
          "text": [
            "True  Positive:  14\n",
            "False Positive:  0\n",
            "\n",
            "\n",
            "True  Negative:  6\n",
            "False Negative:  0\n"
          ]
        }
      ],
      "source": [
        "from sklearn.metrics import confusion_matrix\n",
        "\n",
        "y_pred = logreg.predict(x_test)\n",
        "\n",
        "cm = confusion_matrix(y_test, y_pred)\n",
        "\n",
        "print(\"True  Positive: \",  cm[0][0])\n",
        "print(\"False Positive: \", cm[0][1])\n",
        "print(\"\\n\")\n",
        "print(\"True  Negative: \", cm[1][1])\n",
        "print(\"False Negative: \", cm[1][0])"
      ]
    }
  ],
  "metadata": {
    "colab": {
      "provenance": []
    },
    "kernelspec": {
      "display_name": "Python 3",
      "name": "python3"
    },
    "language_info": {
      "name": "python"
    }
  },
  "nbformat": 4,
  "nbformat_minor": 0
}
